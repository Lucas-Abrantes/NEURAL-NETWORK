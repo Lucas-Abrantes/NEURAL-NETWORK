{
 "cells": [
  {
   "cell_type": "markdown",
   "metadata": {},
   "source": [
    "#### Gradiente"
   ]
  },
  {
   "cell_type": "code",
   "execution_count": 1,
   "metadata": {},
   "outputs": [],
   "source": [
    "import numpy as np"
   ]
  },
  {
   "cell_type": "code",
   "execution_count": 5,
   "metadata": {},
   "outputs": [],
   "source": [
    "def mse(w, x, y):\n",
    "    y_pred = x * w\n",
    "    e = y_pred - y\n",
    "    E = np.sum(e**2)\n",
    "    return E"
   ]
  },
  {
   "cell_type": "code",
   "execution_count": 13,
   "metadata": {},
   "outputs": [
    {
     "name": "stdout",
     "output_type": "stream",
     "text": [
      "Iteração : 0 ----- MSE 97020.0\n",
      "Iteração : 1 ----- MSE 42785820.0\n",
      "Iteração : 2 ----- MSE 18868546620.0\n",
      "Iteração : 3 ----- MSE 8321029059420.0\n",
      "Iteração : 4 ----- MSE 3669573815204220.0\n",
      "Iteração : 5 ----- MSE 1.6182820525050609e+18\n",
      "Iteração : 6 ----- MSE 7.136623851547318e+20\n",
      "Iteração : 7 ----- MSE 3.147251118532368e+23\n",
      "Iteração : 8 ----- MSE 1.3879377432727742e+26\n",
      "Iteração : 9 ----- MSE 6.120805447832934e+28\n",
      "Iteração : 10 ----- MSE 2.6992752024943237e+31\n",
      "Iteração : 11 ----- MSE 1.1903803642999975e+34\n",
      "Iteração : 12 ----- MSE 5.249577406562988e+36\n",
      "Iteração : 13 ----- MSE 2.315063636294278e+39\n",
      "Iteração : 14 ----- MSE 1.0209430636057764e+42\n",
      "Iteração : 15 ----- MSE 4.502358910501474e+44\n",
      "Iteração : 16 ----- MSE 1.9855402795311504e+47\n",
      "Iteração : 17 ----- MSE 8.756232632732375e+49\n",
      "Iteração : 18 ----- MSE 3.8614985910349786e+52\n",
      "Iteração : 19 ----- MSE 1.7029208786464257e+55\n",
      "Iteração : 20 ----- MSE 7.509881074830737e+57\n",
      "Iteração : 21 ----- MSE 3.311857554000356e+60\n",
      "Iteração : 22 ----- MSE 1.4605291813141568e+63\n",
      "Iteração : 23 ----- MSE 6.440933689595432e+65\n",
      "Iteração : 24 ----- MSE 2.8404517571115853e+68\n",
      "Iteração : 25 ----- MSE 1.2526392248862096e+71\n",
      "Iteração : 26 ----- MSE 5.5241389817481844e+73\n",
      "Iteração : 27 ----- MSE 2.436145290950949e+76\n",
      "Iteração : 28 ----- MSE 1.0743400733093686e+79\n",
      "Iteração : 29 ----- MSE 4.737839723294318e+81\n",
      "Iteração : 30 ----- MSE 2.089387317972795e+84\n",
      "Iteração : 31 ----- MSE 9.214198072260024e+86\n",
      "Iteração : 32 ----- MSE 4.0634613498666695e+89\n",
      "Iteração : 33 ----- MSE 1.7919864552912014e+92\n",
      "Iteração : 34 ----- MSE 7.902660267834194e+94\n",
      "Iteração : 35 ----- MSE 3.485073178114881e+97\n",
      "Iteração : 36 ----- MSE 1.536917271548663e+100\n",
      "Iteração : 37 ----- MSE 6.777805167529607e+102\n",
      "Iteração : 38 ----- MSE 2.9890120788805565e+105\n",
      "Iteração : 39 ----- MSE 1.3181543267863252e+108\n",
      "Iteração : 40 ----- MSE 5.813060581127695e+110\n",
      "Iteração : 41 ----- MSE 2.5635597162773138e+113\n",
      "Iteração : 42 ----- MSE 1.1305298348782951e+116\n",
      "Iteração : 43 ----- MSE 4.985636571813282e+118\n",
      "Iteração : 44 ----- MSE 2.1986657281696576e+121\n",
      "Iteração : 45 ----- MSE 9.696115861228194e+123\n",
      "Iteração : 46 ----- MSE 4.275987094801635e+126\n",
      "Iteração : 47 ----- MSE 1.885710308807521e+129\n",
      "Iteração : 48 ----- MSE 8.315982461841167e+131\n",
      "Iteração : 49 ----- MSE 3.667348265671956e+134\n"
     ]
    }
   ],
   "source": [
    "import matplotlib.pyplot as plt\n",
    "\n",
    "x = np.array([1, 2, 3, 4, 5]) # entrada\n",
    "y = np.array([2, 4, 6, 8, 10]) # saida\n",
    "\n",
    "# definindo hiperparâmetro\n",
    "\n",
    "learning_rate = 1\n",
    "num_iterations = 50\n",
    "num_samples= len(x) # N\n",
    "w = 0\n",
    "errors = []\n",
    "ypred= []\n",
    "\n",
    "# descida do gradiente\n",
    "\n",
    "for i in range(num_iterations):\n",
    "    y_pred = x * w\n",
    "    e = y_pred - y\n",
    "    dw = (2/num_samples) * np.sum(e*x)\n",
    "    w = w - learning_rate * dw\n",
    "    error = mse(w,x,y)\n",
    "    errors.append(error)\n",
    "    ypred.append(y_pred)\n",
    "    print(f'Iteração : {i} ----- MSE {error}')"
   ]
  },
  {
   "cell_type": "code",
   "execution_count": 14,
   "metadata": {},
   "outputs": [
    {
     "data": {
      "text/plain": [
       "[array([0, 0, 0, 0, 0]),\n",
       " array([ 44.,  88., 132., 176., 220.]),\n",
       " array([ -880., -1760., -2640., -3520., -4400.]),\n",
       " array([18524., 37048., 55572., 74096., 92620.]),\n",
       " array([ -388960.,  -777920., -1166880., -1555840., -1944800.]),\n",
       " array([ 8168204., 16336408., 24504612., 32672816., 40841020.]),\n",
       " array([-1.7153224e+08, -3.4306448e+08, -5.1459672e+08, -6.8612896e+08,\n",
       "        -8.5766120e+08]),\n",
       " array([3.60217708e+09, 7.20435417e+09, 1.08065313e+10, 1.44087083e+10,\n",
       "        1.80108854e+10]),\n",
       " array([-7.56457187e+10, -1.51291437e+11, -2.26937156e+11, -3.02582875e+11,\n",
       "        -3.78228594e+11]),\n",
       " array([1.58856009e+12, 3.17712019e+12, 4.76568028e+12, 6.35424037e+12,\n",
       "        7.94280047e+12]),\n",
       " array([-3.33597620e+13, -6.67195239e+13, -1.00079286e+14, -1.33439048e+14,\n",
       "        -1.66798810e+14]),\n",
       " array([7.00555001e+14, 1.40111000e+15, 2.10166500e+15, 2.80222000e+15,\n",
       "        3.50277501e+15]),\n",
       " array([-1.47116550e+16, -2.94233100e+16, -4.41349651e+16, -5.88466201e+16,\n",
       "        -7.35582751e+16]),\n",
       " array([3.08944755e+17, 6.17889511e+17, 9.26834266e+17, 1.23577902e+18,\n",
       "        1.54472378e+18]),\n",
       " array([-6.48783987e+18, -1.29756797e+19, -1.94635196e+19, -2.59513595e+19,\n",
       "        -3.24391993e+19]),\n",
       " array([1.36244637e+20, 2.72489274e+20, 4.08733911e+20, 5.44978549e+20,\n",
       "        6.81223186e+20]),\n",
       " array([-2.86113738e+21, -5.72227476e+21, -8.58341214e+21, -1.14445495e+22,\n",
       "        -1.43056869e+22]),\n",
       " array([6.00838850e+22, 1.20167770e+23, 1.80251655e+23, 2.40335540e+23,\n",
       "        3.00419425e+23]),\n",
       " array([-1.26176158e+24, -2.52352317e+24, -3.78528475e+24, -5.04704634e+24,\n",
       "        -6.30880792e+24]),\n",
       " array([2.64969933e+25, 5.29939866e+25, 7.94909798e+25, 1.05987973e+26,\n",
       "        1.32484966e+26]),\n",
       " array([-5.56436859e+26, -1.11287372e+27, -1.66931058e+27, -2.22574744e+27,\n",
       "        -2.78218429e+27]),\n",
       " array([1.16851740e+28, 2.33703481e+28, 3.50555221e+28, 4.67406961e+28,\n",
       "        5.84258702e+28]),\n",
       " array([-2.45388655e+29, -4.90777310e+29, -7.36165964e+29, -9.81554619e+29,\n",
       "        -1.22694327e+30]),\n",
       " array([5.15316175e+30, 1.03063235e+31, 1.54594853e+31, 2.06126470e+31,\n",
       "        2.57658088e+31]),\n",
       " array([-1.08216397e+32, -2.16432794e+32, -3.24649190e+32, -4.32865587e+32,\n",
       "        -5.41081984e+32]),\n",
       " array([2.27254433e+33, 4.54508866e+33, 6.81763300e+33, 9.09017733e+33,\n",
       "        1.13627217e+34]),\n",
       " array([-4.77234310e+34, -9.54468619e+34, -1.43170293e+35, -1.90893724e+35,\n",
       "        -2.38617155e+35]),\n",
       " array([1.00219205e+36, 2.00438410e+36, 3.00657615e+36, 4.00876820e+36,\n",
       "        5.01096025e+36]),\n",
       " array([-2.10460331e+37, -4.20920661e+37, -6.31380992e+37, -8.41841322e+37,\n",
       "        -1.05230165e+38]),\n",
       " array([4.41966694e+38, 8.83933388e+38, 1.32590008e+39, 1.76786678e+39,\n",
       "        2.20983347e+39]),\n",
       " array([-9.28130058e+39, -1.85626012e+40, -2.78439017e+40, -3.71252023e+40,\n",
       "        -4.64065029e+40]),\n",
       " array([1.94907312e+41, 3.89814624e+41, 5.84721936e+41, 7.79629249e+41,\n",
       "        9.74536561e+41]),\n",
       " array([-4.09305356e+42, -8.18610711e+42, -1.22791607e+43, -1.63722142e+43,\n",
       "        -2.04652678e+43]),\n",
       " array([8.59541247e+43, 1.71908249e+44, 2.57862374e+44, 3.43816499e+44,\n",
       "        4.29770623e+44]),\n",
       " array([-1.80503662e+45, -3.61007324e+45, -5.41510985e+45, -7.22014647e+45,\n",
       "        -9.02518309e+45]),\n",
       " array([3.79057690e+46, 7.58115379e+46, 1.13717307e+47, 1.51623076e+47,\n",
       "        1.89528845e+47]),\n",
       " array([-7.96021148e+47, -1.59204230e+48, -2.38806345e+48, -3.18408459e+48,\n",
       "        -3.98010574e+48]),\n",
       " array([1.67164441e+49, 3.34328882e+49, 5.01493324e+49, 6.68657765e+49,\n",
       "        8.35822206e+49]),\n",
       " array([-3.51045326e+50, -7.02090653e+50, -1.05313598e+51, -1.40418131e+51,\n",
       "        -1.75522663e+51]),\n",
       " array([7.37195186e+51, 1.47439037e+52, 2.21158556e+52, 2.94878074e+52,\n",
       "        3.68597593e+52]),\n",
       " array([-1.54810989e+53, -3.09621978e+53, -4.64432967e+53, -6.19243956e+53,\n",
       "        -7.74054945e+53]),\n",
       " array([3.25103077e+54, 6.50206154e+54, 9.75309230e+54, 1.30041231e+55,\n",
       "        1.62551538e+55]),\n",
       " array([-6.82716461e+55, -1.36543292e+56, -2.04814938e+56, -2.73086585e+56,\n",
       "        -3.41358231e+56]),\n",
       " array([1.43370457e+57, 2.86740914e+57, 4.30111371e+57, 5.73481828e+57,\n",
       "        7.16852284e+57]),\n",
       " array([-3.01077959e+58, -6.02155919e+58, -9.03233878e+58, -1.20431184e+59,\n",
       "        -1.50538980e+59]),\n",
       " array([6.32263715e+59, 1.26452743e+60, 1.89679114e+60, 2.52905486e+60,\n",
       "        3.16131857e+60]),\n",
       " array([-1.32775380e+61, -2.65550760e+61, -3.98326140e+61, -5.31101520e+61,\n",
       "        -6.63876901e+61]),\n",
       " array([2.78828298e+62, 5.57656597e+62, 8.36484895e+62, 1.11531319e+63,\n",
       "        1.39414149e+63]),\n",
       " array([-5.85539426e+63, -1.17107885e+64, -1.75661828e+64, -2.34215771e+64,\n",
       "        -2.92769713e+64]),\n",
       " array([1.22963280e+65, 2.45926559e+65, 3.68889839e+65, 4.91853118e+65,\n",
       "        6.14816398e+65])]"
      ]
     },
     "execution_count": 14,
     "metadata": {},
     "output_type": "execute_result"
    }
   ],
   "source": [
    "ypred"
   ]
  },
  {
   "cell_type": "code",
   "execution_count": 15,
   "metadata": {},
   "outputs": [
    {
     "data": {
      "image/png": "[encoded data removed]",
      "text/plain": [
       "<Figure size 640x480 with 1 Axes>"
      ]
     },
     "metadata": {},
     "output_type": "display_data"
    }
   ],
   "source": [
    "plt.plot(range(num_iterations), errors)\n",
    "plt.xlabel('Iterações')\n",
    "plt.ylabel('E(w,x,y)')\n",
    "plt.title('Função erro')\n",
    "plt.show()"
   ]
  }
 ],
 "metadata": {
  "kernelspec": {
   "display_name": "Python 3",
   "language": "python",
   "name": "python3"
  },
  "language_info": {
   "codemirror_mode": {
    "name": "ipython",
    "version": 3
   },
   "file_extension": ".py",
   "mimetype": "text/x-python",
   "name": "python",
   "nbconvert_exporter": "python",
   "pygments_lexer": "ipython3",
   "version": "3.11.5"
  }
 },
 "nbformat": 4,
 "nbformat_minor": 2
}
